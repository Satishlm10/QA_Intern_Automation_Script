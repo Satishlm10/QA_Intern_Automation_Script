{
 "cells": [
  {
   "cell_type": "code",
   "execution_count": 1,
   "id": "bc2d8310-8683-4514-b7a8-89444d8e5bf1",
   "metadata": {},
   "outputs": [],
   "source": [
    "from selenium import webdriver\n",
    "from selenium.webdriver.common.by import By\n",
    "import time\n",
    "from selenium.webdriver.support.select import Select\n",
    "from selenium.webdriver.support.ui import WebDriverWait\n",
    "from selenium.webdriver.support import expected_conditions as EC"
   ]
  },
  {
   "cell_type": "code",
   "execution_count": 3,
   "id": "0cb4a1f0-6b4e-48ae-9c22-ac54838016e8",
   "metadata": {},
   "outputs": [],
   "source": [
    "def setup():\n",
    "    driver = webdriver.Chrome()\n",
    "    driver.get(\"https://namespace-team.github.io/ems-web/login\")\n",
    "    return driver\n",
    "\n",
    "def teardown(driver):\n",
    "    driver.quit()\n"
   ]
  },
  {
   "cell_type": "code",
   "execution_count": 10,
   "id": "002adf5c-3fc4-44e4-a4cc-60c7ae88d9ff",
   "metadata": {},
   "outputs": [],
   "source": [
    "def login():\n",
    "    driver = setup()\n",
    "    wait = WebDriverWait(driver,5)\n",
    "\n",
    "    email_field = wait.until(EC.presence_of_element_located((By.XPATH,'//input[@id=\"username\"]')))\n",
    "    email_field.send_keys(\"testuser@namespace.jp\")\n",
    "\n",
    "    pwd_field = wait.until(EC.presence_of_element_located((By.XPATH,'//input[@id=\"password\"]')))\n",
    "    pwd_field.send_keys(\"p@ssw0rD44\")\n",
    "\n",
    "    sign_in_btn = wait.until(EC.element_to_be_clickable((By.XPATH,'//button[contains(text(),\"Sign in\")]')))\n",
    "    sign_in_btn.click()\n",
    "\n",
    "    print(\"Login Successful\")\n",
    "    teardown(driver)"
   ]
  },
  {
   "cell_type": "code",
   "execution_count": 11,
   "id": "c00d56a2-90c8-41a1-8ca4-07b7f2d64260",
   "metadata": {},
   "outputs": [
    {
     "name": "stdout",
     "output_type": "stream",
     "text": [
      "Login Successful\n"
     ]
    }
   ],
   "source": [
    "login()"
   ]
  },
  {
   "cell_type": "code",
   "execution_count": 25,
   "id": "59f8df0c-7f3a-401b-8779-5c4fb4bb9597",
   "metadata": {},
   "outputs": [],
   "source": [
    "def login_dry():\n",
    "    global driver\n",
    "    driver = setup()\n",
    "    global wait\n",
    "    wait = WebDriverWait(driver,5)\n",
    "\n",
    "    email_field = wait.until(EC.presence_of_element_located((By.XPATH,'//input[@id=\"username\"]')))\n",
    "    email_field.send_keys(\"testuser@namespace.jp\")\n",
    "\n",
    "    pwd_field = wait.until(EC.presence_of_element_located((By.XPATH,'//input[@id=\"password\"]')))\n",
    "    pwd_field.send_keys(\"p@ssw0rD44\")\n",
    "\n",
    "    sign_in_btn = wait.until(EC.element_to_be_clickable((By.XPATH,'//button[contains(text(),\"Sign in\")]')))\n",
    "    sign_in_btn.click()\n",
    "\n",
    "    print(\"Login Successful\")\n"
   ]
  },
  {
   "cell_type": "code",
   "execution_count": 50,
   "id": "73885f86-dd1e-4196-beb1-083858a82faa",
   "metadata": {},
   "outputs": [],
   "source": [
    "def logout():\n",
    "    login_dry()\n",
    "    logout_btn = wait.until(EC.element_to_be_clickable((By.XPATH,'(//button//span[contains(text(),\"Log out\")])[2]')))\n",
    "    logout_btn.click()\n",
    "    print(\"Logout Successful\")\n",
    "    teardown(driver)"
   ]
  },
  {
   "cell_type": "code",
   "execution_count": 51,
   "id": "402e4551-52f3-45f1-a178-0996d7723e6c",
   "metadata": {
    "scrolled": true
   },
   "outputs": [
    {
     "name": "stdout",
     "output_type": "stream",
     "text": [
      "Login Successful\n",
      "Logout Successful\n"
     ]
    }
   ],
   "source": [
    "logout()"
   ]
  },
  {
   "cell_type": "code",
   "execution_count": 26,
   "id": "323a73ee-e18f-4f4e-9d8a-8ec99e79e68c",
   "metadata": {},
   "outputs": [],
   "source": [
    "def check_paid_balance():\n",
    "    \n",
    "    login_dry()\n",
    "    \n",
    "    paid_card = wait.until(EC.presence_of_element_located((By.XPATH,'//a//div[contains(text(),\"Paid\")]')))\n",
    "    paid_card.click()\n",
    "\n",
    "    paid_balance_table = wait.until(EC.presence_of_element_located((By.XPATH,'(//table)[1]')))\n",
    "    print(paid_balance_table.text)\n",
    "\n",
    "    teardown(driver)"
   ]
  },
  {
   "cell_type": "code",
   "execution_count": 27,
   "id": "7940feea-0d5c-4393-bc74-8153a3cc9b24",
   "metadata": {
    "scrolled": true
   },
   "outputs": [
    {
     "name": "stdout",
     "output_type": "stream",
     "text": [
      "Login Successful\n",
      "Leave Type Taken Days Remaining Days Scheduled\n",
      "Paid\n",
      "2 14.0 -\n"
     ]
    }
   ],
   "source": [
    "check_paid_balance()"
   ]
  },
  {
   "cell_type": "code",
   "execution_count": 30,
   "id": "afe282c7-ca24-4611-a32e-931bd08314e1",
   "metadata": {},
   "outputs": [],
   "source": [
    "def check_sick_balance():\n",
    "    \n",
    "    login_dry()\n",
    "    \n",
    "    sick_card = wait.until(EC.presence_of_element_located((By.XPATH,'//a//div[contains(text(),\"Sick\")]')))\n",
    "    sick_card.click()\n",
    "\n",
    "    sick_balance_table = wait.until(EC.presence_of_element_located((By.XPATH,'(//table)[1]')))\n",
    "    print(sick_balance_table.text)\n",
    "\n",
    "    teardown(driver)"
   ]
  },
  {
   "cell_type": "code",
   "execution_count": 31,
   "id": "c85f160c-97d0-4ff6-9be0-4f7942b032af",
   "metadata": {
    "scrolled": true
   },
   "outputs": [
    {
     "name": "stdout",
     "output_type": "stream",
     "text": [
      "Login Successful\n",
      "Leave Type Taken Days Remaining Days Scheduled\n",
      "Sick\n",
      "0.5 4.5 -\n"
     ]
    }
   ],
   "source": [
    "check_sick_balance()"
   ]
  },
  {
   "cell_type": "code",
   "execution_count": 32,
   "id": "4d66e2fb-b21e-465a-b304-bcbddc784017",
   "metadata": {},
   "outputs": [],
   "source": [
    "def check_wfh_balance():\n",
    "    \n",
    "    login_dry()\n",
    "    \n",
    "    wfh_card = wait.until(EC.presence_of_element_located((By.XPATH,'//a//div[contains(text(),\"Work\")]')))\n",
    "    wfh_card.click()\n",
    "\n",
    "    wfh_balance_table = wait.until(EC.presence_of_element_located((By.XPATH,'(//table)[1]')))\n",
    "    print(wfh_balance_table.text)\n",
    "\n",
    "    teardown(driver)"
   ]
  },
  {
   "cell_type": "code",
   "execution_count": 33,
   "id": "58c413f4-03e7-49dd-9198-a51e14f75c89",
   "metadata": {
    "scrolled": true
   },
   "outputs": [
    {
     "name": "stdout",
     "output_type": "stream",
     "text": [
      "Login Successful\n",
      "Leave Type Taken Days Remaining Days Scheduled\n",
      "Work from home\n",
      "5.5 - -\n"
     ]
    }
   ],
   "source": [
    "check_wfh_balance()"
   ]
  },
  {
   "cell_type": "code",
   "execution_count": 36,
   "id": "2dade7a8-400c-4a0d-8e70-982ff80e2772",
   "metadata": {},
   "outputs": [],
   "source": [
    "def check_unpaid_balance():\n",
    "    \n",
    "    login_dry()\n",
    "    \n",
    "    unpaid_card = wait.until(EC.presence_of_element_located((By.XPATH,'//a//div[contains(text(),\"Unpaid\")]')))\n",
    "    unpaid_card.click()\n",
    "\n",
    "    unpaid_balance_table = wait.until(EC.presence_of_element_located((By.XPATH,'(//table)[1]')))\n",
    "    print(unpaid_balance_table.text)\n",
    "\n",
    "    teardown(driver)"
   ]
  },
  {
   "cell_type": "code",
   "execution_count": 37,
   "id": "037ed427-17e5-4f13-84e8-cceb7a0c8156",
   "metadata": {
    "scrolled": true
   },
   "outputs": [
    {
     "name": "stdout",
     "output_type": "stream",
     "text": [
      "Login Successful\n",
      "Leave Type Taken Days Remaining Days Scheduled\n",
      "Unpaid\n",
      "0 - -\n"
     ]
    }
   ],
   "source": [
    "check_unpaid_balance()"
   ]
  },
  {
   "cell_type": "code",
   "execution_count": 43,
   "id": "a2788ffa-e6d2-4ca5-807a-e050fc7da108",
   "metadata": {},
   "outputs": [],
   "source": [
    "def leave_status():\n",
    "    \n",
    "    login_dry()\n",
    "\n",
    "    my_leaves_link = wait.until(EC.element_to_be_clickable((By.XPATH,'(//span[contains(text(),\"My Leaves\")])[2]')))\n",
    "    my_leaves_link.click()\n",
    "\n",
    "    leave_status_table = wait.until(EC.presence_of_element_located((By.XPATH,'(//table)[1]')))\n",
    "    print(leave_status_table.text)\n",
    "\n",
    "    teardown(driver)"
   ]
  },
  {
   "cell_type": "code",
   "execution_count": 44,
   "id": "a4e91206-aa92-4b5c-a58c-fbd0a7b9c8c0",
   "metadata": {
    "scrolled": true
   },
   "outputs": [
    {
     "name": "stdout",
     "output_type": "stream",
     "text": [
      "Login Successful\n",
      "Leave Type From To Reason Total Days Approver Status Actions\n",
      "Half day\n",
      "6th Mar, 2025 04:59 pm\n",
      "11th Mar 2025 11th Mar 2025 abcd 0.5 - Pending\n",
      "Cancel\n",
      "Half day\n",
      "6th Mar, 2025 04:59 pm\n",
      "10th Mar 2025 10th Mar 2025 adfa 0.5 - Pending\n",
      "Cancel\n",
      "Half day\n",
      "6th Mar, 2025 04:54 pm\n",
      "9th Mar 2025 9th Mar 2025 reason 0.5 - Pending\n",
      "Cancel\n",
      "Sick half day\n",
      "6th Mar, 2025 04:53 pm\n",
      "6th Mar 2025 6th Mar 2025 sick 0.5 - Pending\n",
      "Cancel\n",
      "Half day\n",
      "6th Mar, 2025 04:20 pm\n",
      "8th Mar 2025 8th Mar 2025 0.5 0.5 - Pending\n",
      "Cancel\n",
      "Unpaid\n",
      "6th Mar, 2025 03:08 pm\n",
      "27th Mar 2025 27th Mar 2025 qwerwq 1.0 - Canceled\n",
      "-\n",
      "Unpaid\n",
      "6th Mar, 2025 03:08 pm\n",
      "26th Mar 2025 26th Mar 2025 abcd 1.0 - Canceled\n",
      "-\n",
      "Half day\n",
      "6th Mar, 2025 03:07 pm\n",
      "19th Mar 2025 19th Mar 2025 abcd 0.5 - Canceled\n",
      "-\n",
      "Full day\n",
      "6th Mar, 2025 03:07 pm\n",
      "12th Mar 2025 12th Mar 2025 abcd 1.0 - Canceled\n",
      "-\n",
      "Sick half day\n",
      "6th Mar, 2025 03:06 pm\n",
      "7th Mar 2025 7th Mar 2025 ppp 0.5 - Canceled\n",
      "-\n",
      "Sick full day\n",
      "6th Mar, 2025 03:02 pm\n",
      "6th Mar 2025 6th Mar 2025 iii 1.0 - Canceled\n",
      "-\n",
      "Sick full day\n",
      "6th Mar, 2025 02:57 pm\n",
      "6th Mar 2025 6th Mar 2025 abcd 1.0 - Canceled\n",
      "-\n",
      "Full day\n",
      "6th Mar, 2025 02:51 pm\n",
      "20th Mar 2025 20th Mar 2025 fdafsd 1.0 - Canceled\n",
      "-\n",
      "Full day\n",
      "6th Mar, 2025 02:50 pm\n",
      "20th Mar 2025 30th Mar 2025 fsdfda 11.0 - Canceled\n",
      "-\n",
      "Half day\n",
      "6th Mar, 2025 02:44 pm\n",
      "1st May 2025 1st May 2025 abcd 0.5 - Canceled\n",
      "-\n",
      "Half day\n",
      "6th Mar, 2025 02:35 pm\n",
      "19th Mar 2025 19th Mar 2025 abcd 0.5 - Canceled\n",
      "-\n",
      "Half day\n",
      "6th Mar, 2025 02:33 pm\n",
      "17th Mar 2025 17th Mar 2025 gfsdgfdsg 0.5 - Canceled\n",
      "-\n",
      "Full day\n",
      "6th Mar, 2025 02:32 pm\n",
      "18th Mar 2025 18th Mar 2025 abcd hehehe 1.0 - Canceled\n",
      "-\n",
      "Full day\n",
      "6th Mar, 2025 02:31 pm\n",
      "9th Mar 2025 10th Mar 2025 abcd hehehe 2.0 - Canceled\n",
      "-\n",
      "Unpaid\n",
      "6th Mar, 2025 02:17 pm\n",
      "6th Mar 2025 6th Sep 2025 pp 185.0 - Canceled\n",
      "-\n"
     ]
    }
   ],
   "source": [
    "leave_status()"
   ]
  },
  {
   "cell_type": "code",
   "execution_count": 45,
   "id": "e914f630-8983-46cd-8f3e-298a7f63579c",
   "metadata": {},
   "outputs": [],
   "source": [
    "def wfh_status():\n",
    "    \n",
    "    login_dry()\n",
    "\n",
    "    wfh_link = wait.until(EC.element_to_be_clickable((By.XPATH,'(//span[contains(text(),\"Work From Home\")])[2]')))\n",
    "    wfh_link.click()\n",
    "\n",
    "    wfh_status_table = wait.until(EC.presence_of_element_located((By.XPATH,'(//table)[1]')))\n",
    "    print(wfh_status_table.text)\n",
    "\n",
    "    teardown(driver)"
   ]
  },
  {
   "cell_type": "code",
   "execution_count": 46,
   "id": "ecad0c1c-2f0c-492d-aafe-0d2d6bb9ce15",
   "metadata": {
    "scrolled": true
   },
   "outputs": [
    {
     "name": "stdout",
     "output_type": "stream",
     "text": [
      "Login Successful\n",
      "Leave Type From To Reason Total Days Approver Status Actions\n",
      "6th Mar, 2025 04:11 pm\n",
      "7th Mar 2025 7th Mar 2025 ppppppp 1.0 - Pending\n",
      "Cancel\n",
      "6th Mar, 2025 04:03 pm\n",
      "5th Apr 2025 5th Apr 2025 yyyy 1.0 - Pending\n",
      "Cancel\n",
      "6th Mar, 2025 03:09 pm\n",
      "25th Mar 2025 25th Mar 2025 sfadfas 1.0 - Pending\n",
      "Cancel\n",
      "6th Mar, 2025 02:34 pm\n",
      "11th Mar 2025 12th Mar 2025 reason 2.0 - Canceled\n",
      "-\n",
      "6th Mar, 2025 02:25 pm\n",
      "1st Apr 2025 2nd Apr 2025 fdsafasd 2.0 - Canceled\n",
      "-\n",
      "6th Mar, 2025 02:19 pm\n",
      "7th Mar 2025 8th Mar 2025 work from home 2.0 - Canceled\n",
      "-\n",
      "6th Mar, 2025 02:03 pm\n",
      "3rd May 2025 25th May 2025 reason 23.0 - Canceled\n",
      "-\n",
      "6th Mar, 2025 02:02 pm\n",
      "7th Mar 2025 7th Mar 2025 nothing 1.0 - Canceled\n",
      "-\n",
      "6th Mar, 2025 01:58 pm\n",
      "14th Mar 2025 15th Mar 2025 kei haina 2.0 - Canceled\n",
      "-\n",
      "6th Mar, 2025 01:57 pm\n",
      "7th Mar 2025 30th Mar 2025 kk 24.0 - Canceled\n",
      "-\n",
      "6th Mar, 2025 01:55 pm\n",
      "7th Mar 2025 30th Mar 2025 kk 24.0 - Canceled\n",
      "-\n",
      "6th Mar, 2025 01:55 pm\n",
      "7th Mar 2025 30th Mar 2025 reason 24.0 - Canceled\n",
      "-\n",
      "6th Mar, 2025 01:46 pm\n",
      "7th Mar 2025 30th Mar 2025 24 days 24.0 - Canceled\n",
      "-\n",
      "6th Mar, 2025 01:45 pm\n",
      "27th Mar 2025 5th Apr 2025 i can'''''''t 10.0 - Canceled\n",
      "-\n",
      "6th Mar, 2025 01:43 pm\n",
      "31st May 2025 23rd Jun 2025 sdfvdsvxvxv 24.0 - Canceled\n",
      "-\n",
      "6th Mar, 2025 01:41 pm\n",
      "7th Mar 2025 30th Mar 2025 ttttttt 24.0 - Canceled\n",
      "-\n",
      "6th Mar, 2025 01:33 pm\n",
      "27th Mar 2025 28th Mar 2025 hell yeahhhh 2.0 - Canceled\n",
      "-\n",
      "6th Mar, 2025 01:32 pm\n",
      "16th Mar 2025 25th Mar 2025 yeahhhhhhhhhhh 10.0 - Canceled\n",
      "-\n",
      "6th Mar, 2025 01:25 pm\n",
      "31st Mar 2025 23rd Apr 2025 ghar maii basne 24.0 - Canceled\n",
      "-\n",
      "6th Mar, 2025 01:20 pm\n",
      "10th Mar 2025 31st Mar 2025 work from home 22.0 - Canceled\n",
      "-\n"
     ]
    }
   ],
   "source": [
    "wfh_status()"
   ]
  },
  {
   "cell_type": "code",
   "execution_count": 72,
   "id": "45040b36-340b-4b33-b2b7-9dfec11e735a",
   "metadata": {},
   "outputs": [],
   "source": [
    "def balance_of_all_leave_types():\n",
    "    login_dry()\n",
    "    \n",
    "    my_leaves_link = wait.until(EC.element_to_be_clickable((By.XPATH,'(//span[contains(text(),\"My Leaves\")])[2]')))\n",
    "    my_leaves_link.click()\n",
    "\n",
    "    main_balance_link = wait.until(EC.element_to_be_clickable((By.XPATH,'(//div[@class=\"nav-wrapper\"]//span)[3]')))\n",
    "    main_balance_link.click()\n",
    "\n",
    "    all_leave_type_balance = wait.until(EC.presence_of_element_located((By.XPATH,'//table')))\n",
    "    print(all_leave_type_balance.text)\n",
    "\n",
    "    teardown(driver)"
   ]
  },
  {
   "cell_type": "code",
   "execution_count": 73,
   "id": "af5f381f-65d2-4aac-8af8-4d95fc1ddfce",
   "metadata": {
    "scrolled": true
   },
   "outputs": [
    {
     "name": "stdout",
     "output_type": "stream",
     "text": [
      "Login Successful\n",
      "Leave Type Taken Days Remaining Days Scheduled\n"
     ]
    }
   ],
   "source": [
    "balance_of_all_leave_types()"
   ]
  },
  {
   "cell_type": "code",
   "execution_count": null,
   "id": "4ee588af-cbef-4dd8-8acb-46d5b01bd7a7",
   "metadata": {},
   "outputs": [],
   "source": [
    "def check_paid_balance_from_balance_table_data():\n",
    "    login_dry()\n",
    "    "
   ]
  }
 ],
 "metadata": {
  "kernelspec": {
   "display_name": "selenium_env",
   "language": "python",
   "name": "selenium_env"
  },
  "language_info": {
   "codemirror_mode": {
    "name": "ipython",
    "version": 3
   },
   "file_extension": ".py",
   "mimetype": "text/x-python",
   "name": "python",
   "nbconvert_exporter": "python",
   "pygments_lexer": "ipython3",
   "version": "3.12.9"
  }
 },
 "nbformat": 4,
 "nbformat_minor": 5
}
